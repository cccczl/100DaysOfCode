{
 "cells": [
  {
   "cell_type": "markdown",
   "metadata": {},
   "source": [
    "今天我们将学习，打印；注释；调试；字符串操作；变量"
   ]
  },
  {
   "cell_type": "code",
   "execution_count": null,
   "metadata": {},
   "outputs": [],
   "source": [
    "# day-1-1-交互练习\n",
    "#使用print函数将下面的每行文字打印出来，不包含#号，格式完全一致。\n",
    "\n",
    "#Day 1 - Python Print Function\n",
    "#The function is declared like this:\n",
    "#print('what to print')"
   ]
  },
  {
   "cell_type": "code",
   "execution_count": null,
   "metadata": {},
   "outputs": [],
   "source": [
    "print('Day 1 - Python Print Function')\n",
    "print(\"The function is declared like this:\")\n",
    "print(\"print('what to print')\")"
   ]
  },
  {
   "cell_type": "code",
   "execution_count": null,
   "metadata": {},
   "outputs": [],
   "source": [
    "# day-1-2-交互练习\n",
    "#检查下面代码是否能输出注释中的行。修正代码。\n",
    "#Day 1 - string Manipulation\n",
    "#string concatenation is done with the \"+\" sign.\n",
    "#e.g. print(\"Hello \" + \"world\" )\n",
    "#New lines can be areated with a backslash and n.\n",
    "\n",
    "'''\n",
    "print(Day 1 - String Hanipulation\")\n",
    "print(\"str ing Concatenation is done with the \"+\" sign.\")\n",
    "  print('e.g. print(\"Hello \" + \"world\")')\n",
    "print((\"New lines can be created with a backslash and n.\")\n",
    "'''"
   ]
  },
  {
   "cell_type": "code",
   "execution_count": null,
   "metadata": {},
   "outputs": [],
   "source": [
    "print(Day 1 - String Hanipulation\")\n",
    "print(\"str ing Concatenation is done with the \"+\" sign.\")\n",
    "  print('e.g. print(\"Hello \" + \"world\")')\n",
    "print((\"New lines can be created with a backslash and n.\")"
   ]
  },
  {
   "cell_type": "code",
   "execution_count": null,
   "metadata": {},
   "outputs": [],
   "source": [
    "# day-1-3-交互练习\n",
    "#使用输入函数，在输入单词后计算它的长度。和注释中的相同。\n",
    "#输入\n",
    "#agela\n",
    "#输出\n",
    "#6"
   ]
  },
  {
   "cell_type": "code",
   "execution_count": null,
   "metadata": {},
   "outputs": [],
   "source": [
    "print(len(input(\"请输入单词计算长度！\")))"
   ]
  },
  {
   "cell_type": "code",
   "execution_count": null,
   "metadata": {},
   "outputs": [],
   "source": [
    "## day-1-4-交互练习\n",
    "#利用更多变量，当输入将变量a和b的值交换。请和注释中的相同\n",
    "#输入原始a和b的值\n",
    "#a: 3\n",
    "#b: 5\n",
    "#输出交换后a和b的值\n",
    "#a: 5\n",
    "#b: 3"
   ]
  },
  {
   "cell_type": "code",
   "execution_count": null,
   "metadata": {},
   "outputs": [],
   "source": [
    "# 请不要修改这里的内容\n",
    "a = input(\"a:\")\n",
    "b = input(\"b:\")\n",
    "# 请不要修改这里的内容\n",
    "#########################\n",
    "#请在这里编写你的代码\n",
    "c = a\n",
    "a = b\n",
    "b = c\n",
    "print(a)\n",
    "print(b)\n",
    "#请在这里编写你的代码"
   ]
  }
 ],
 "metadata": {
  "kernelspec": {
   "display_name": "Python 3.9.12 ('base')",
   "language": "python",
   "name": "python3"
  },
  "language_info": {
   "codemirror_mode": {
    "name": "ipython",
    "version": 3
   },
   "file_extension": ".py",
   "mimetype": "text/x-python",
   "name": "python",
   "nbconvert_exporter": "python",
   "pygments_lexer": "ipython3",
   "version": "3.9.12"
  },
  "vscode": {
   "interpreter": {
    "hash": "de06b34ddb11d351d9b2ac1115aa8d67757653cc6c883c4b66f1d79040ffb735"
   }
  }
 },
 "nbformat": 4,
 "nbformat_minor": 4
}
