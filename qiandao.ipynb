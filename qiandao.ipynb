{
 "cells": [
  {
   "cell_type": "markdown",
   "metadata": {},
   "source": [
    "经常有人在问，“学习编程的最佳方法是什么。”"
   ]
  },
  {
   "cell_type": "markdown",
   "metadata": {},
   "source": [
    "我认为学生和成人不同。\n",
    "\n",
    "成年人可以通过坚持100天，每天至少保证1小时用于编程问题的思考和代码编辑。\n",
    "学生学习的课程较多，正常通过两年时间，每周至少保证2次，每次不少于两小时的编程问题思考和代码练习。\n",
    "\n",
    "通过形成肌肉记忆的方式,来形成编程习惯。"
   ]
  },
  {
   "cell_type": "markdown",
   "metadata": {},
   "source": [
    "我们在任何学习中，练习和思考都是必要的。拳不离手曲不离口才能充分的掌握一项技能。\n",
    "\n",
    "所以我们的学习规则有两条：\n",
    "\n",
    "1.保持自己每天编程练习的习惯。并坚持至少100天。（学生要求也类似，每周至少两天思考和编程练习）\n",
    "2.记录你自己的进度，通过进度来促进自己保持练习。"
   ]
  },
  {
   "cell_type": "markdown",
   "metadata": {},
   "source": [
    "在这门综合课程中，我们涵盖了大量的工具和技术，包括：\n",
    "\n",
    "Python 3 - the latest version of Python\n",
    "#PyCharm, Jupyter Notebook, Google Colab\n",
    "Thonny, vscode, Jupyter Notebook, Google Colab\n",
    "Python Scripting and Automation\n",
    "Python Game Development\n",
    "Web Scraping\n",
    "Beautiful Soup\n",
    "Selenium Web Driver\n",
    "Request\n",
    "WTForms\n",
    "Data Science\n",
    "Pandas\n",
    "NumPy\n",
    "Matplotlib\n",
    "Plotly\n",
    "Scikit learn\n",
    "Seaborn\n",
    "Turtle\n",
    "Python GUI Desktop App Development\n",
    "Tkinter\n",
    "Front-End Web Development\n",
    "HTML 5\n",
    "CSS 3\n",
    "Bootstrap 4\n",
    "Bash Command Line\n",
    "Git, GitHub and Version Control\n",
    "Backend Web Development\n",
    "Flask\n",
    "REST\n",
    "APIs\n",
    "Databases\n",
    "SQL\n",
    "SQLite\n",
    "PostgreSQL\n",
    "Authentication\n",
    "Web Design\n",
    "Deployment with GitHub Pages, Heroku and GUnicorn"
   ]
  },
  {
   "cell_type": "markdown",
   "metadata": {},
   "source": [
    "你还实践超过100个项目，你可以向用它对你外来的HR展示。包含：\n",
    "Blackjack\n",
    "Snake Game\n",
    "Pong Game\n",
    "Auto Swipe on Tinder\n",
    "Auto Job Applications on LinkedIn\n",
    "Automate Birthday Emails/SMS\n",
    "Fully Fledged Blog Website\n",
    "Build Your Own Public API\n",
    "Data Science with Google Trends\n",
    "Analysing Lego Datasets\n",
    "Google App Store Analysis"
   ]
  }
 ],
 "metadata": {
  "kernelspec": {
   "display_name": "Python 3.9.10 64-bit",
   "language": "python",
   "name": "python3"
  },
  "language_info": {
   "name": "python",
   "version": "3.9.10"
  },
  "orig_nbformat": 4,
  "vscode": {
   "interpreter": {
    "hash": "7274d498c25e074c3213a89917b8ecd63e91ebac93f7d645e62fb679a741fc76"
   }
  }
 },
 "nbformat": 4,
 "nbformat_minor": 2
}
