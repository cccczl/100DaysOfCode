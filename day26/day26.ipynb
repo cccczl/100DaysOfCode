{
 "cells": [
  {
   "cell_type": "code",
   "execution_count": null,
   "metadata": {},
   "outputs": [],
   "source": [
    "# day-26-1-exercise\n",
    "# You are going to write a List Comprehension to create a new list called squared_numbers.\n",
    "# This new list should contain every number in the list numbers but each number should be squared."
   ]
  },
  {
   "cell_type": "code",
   "execution_count": null,
   "metadata": {},
   "outputs": [],
   "source": [
    "numbers = [1, 1, 2, 3, 5, 8, 13, 21, 34, 55]\n",
    "# 🚨 Do Not Change the code above 👆\n",
    "\n",
    "#Write your 1 line code 👇 below:\n",
    "\n",
    "# list comprehension: new_list = [new_item for item in list]\n",
    "squared_numbers = [n * n for n in numbers]\n",
    "\n",
    "#Write your code 👆 above:\n",
    "\n",
    "print(squared_numbers)"
   ]
  },
  {
   "cell_type": "code",
   "execution_count": null,
   "metadata": {},
   "outputs": [],
   "source": [
    "# day-26-2-exercise\n",
    "# You are going to write a List Comprehension to create a new list called result.\n",
    "# This new list should only contain the even numbers from the list numbers.\n",
    "# DO NOT modify the List numbers directly. Try to use List Comprehension instead of a Loop."
   ]
  },
  {
   "cell_type": "code",
   "execution_count": null,
   "metadata": {},
   "outputs": [],
   "source": [
    "numbers = [1, 1, 2, 3, 5, 8, 13, 21, 34, 55]\n",
    "# 🚨 Do Not Change the code above\n",
    "\n",
    "#Write your 1 line code 👇 below:\n",
    "\n",
    "# new_list = [new_item for item in list if test]\n",
    "result = [n for n in numbers if n % 2 == 0]\n",
    "\n",
    "#Write your code 👆 above:\n",
    "\n",
    "print(result)"
   ]
  },
  {
   "cell_type": "code",
   "execution_count": null,
   "metadata": {},
   "outputs": [],
   "source": [
    "# day-26-3-exercise\n",
    "# Take a look inside file1.txt and file2.txt. They each contain a bunch of numbers, each number on a new line.\n",
    "# You are going to create a list called result which contains the numbers that are common in both files.\n",
    "# IMPORTANT: The result should be a list that contains Integers, not Strings. Try to use List Comprehension instead of a Loop."
   ]
  },
  {
   "cell_type": "code",
   "execution_count": null,
   "metadata": {},
   "outputs": [],
   "source": [
    "# with open(\"file1.txt\") as f1:\n",
    "#     list1 = f1.readlines()\n",
    "# with open(\"file2.txt\") as f2:\n",
    "#     list2 = f2.readlines()\n",
    "\n",
    "# by using the above, we get these lists... the line breaks left in on purpose\n",
    "list1 = [\"3\\n\", \"6\\n\", \"5\\n\", \"8\\n\", \"33\\n\", \"12\\n\", \"7\\n\", \"4\\n\", \"72\\n\", \"2\\n\", \"42\\n\", \"13\\n\"]\n",
    "list2 = [\"3\\n\", \"6\\n\", \"13\\n\", \"5\\n\", \"7\\n\", \"89\\n\", \"12\\n\", \"3\\n\", \"33\\n\", \"34\\n\", \"1\\n\", \"344\\n\", \"42\\n\"]\n",
    "\n",
    "# new_list = [new_item for item in list if test]\n",
    "result = [int(num.strip(\"\\n\")) for num in list1 if num in list2]\n",
    "\n",
    "# Write your code above 👆\n",
    "\n",
    "print(result)"
   ]
  },
  {
   "cell_type": "code",
   "execution_count": null,
   "metadata": {},
   "outputs": [],
   "source": [
    "# day-26-4-exercise\n",
    "# You are going to use Dictionary Comprehension to create a dictionary called result that takes each word\n",
    "# in the given sentence and calculates the number of letters in each word.\n",
    "# Do NOT Create a dictionary directly. Try to use Dictionary Comprehension instead of a Loop."
   ]
  },
  {
   "cell_type": "code",
   "execution_count": null,
   "metadata": {},
   "outputs": [],
   "source": [
    "sentence = \"What is the Airspeed Velocity of an Unladen Swallow?\"\n",
    "# Don't change code above 👆\n",
    "\n",
    "# Write your code 👇 below:\n",
    "\n",
    "# dictionary comprehension: new_dict = {new_key: new_value for item in list}\n",
    "# this will count the question mark in \"Swallow?\" as a letter too\n",
    "result = {word: len(word) for word in sentence.split()}\n",
    "\n",
    "print(result)"
   ]
  },
  {
   "cell_type": "code",
   "execution_count": null,
   "metadata": {},
   "outputs": [],
   "source": [
    "# day-26-5-exercise\n",
    "# You are going to use Dictionary Comprehension to create a dictionary called weather_f that\n",
    "# takes each temperature in degrees Celsius and converts it into degrees Fahrenheit.\n",
    "# Do NOT Create a dictionary directly. Try to use Dictionary Comprehension instead of a Loop."
   ]
  },
  {
   "cell_type": "code",
   "execution_count": null,
   "metadata": {},
   "outputs": [],
   "source": [
    "weather_c = {\n",
    "    \"Monday\": 12,\n",
    "    \"Tuesday\": 14,\n",
    "    \"Wednesday\": 15,\n",
    "    \"Thursday\": 14,\n",
    "    \"Friday\": 21,\n",
    "    \"Saturday\": 22,\n",
    "    \"Sunday\": 24,\n",
    "}\n",
    "# 🚨 Don't change code above 👆\n",
    "\n",
    "# Write your code 👇 below:\n",
    "\n",
    "# new_dict = {new_key: new_value for (key, value) in dictionary.items()}\n",
    "# new_dict = {new_key: new_value for (key, value) in dictionary.items() if test}\n",
    "# included round() to make the results look more uniform\n",
    "weather_f = {day: round(temp * 1.8 + 32, 1) for (day, temp) in weather_c.items()}\n",
    "\n",
    "print(weather_f)"
   ]
  }
 ],
 "metadata": {
  "kernelspec": {
   "display_name": "Python 3.9.10 64-bit",
   "language": "python",
   "name": "python3"
  },
  "language_info": {
   "name": "python",
   "version": "3.9.10"
  },
  "orig_nbformat": 4,
  "vscode": {
   "interpreter": {
    "hash": "7274d498c25e074c3213a89917b8ecd63e91ebac93f7d645e62fb679a741fc76"
   }
  }
 },
 "nbformat": 4,
 "nbformat_minor": 2
}
