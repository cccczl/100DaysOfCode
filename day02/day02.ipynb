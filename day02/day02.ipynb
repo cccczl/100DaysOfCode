{
 "cells": [
  {
   "cell_type": "code",
   "execution_count": null,
   "metadata": {},
   "outputs": [],
   "source": [
    "# Tip Calculator\n",
    "#小费计算器\n",
    "\n",
    "# initialize the variables as empty strings, since input() returns strings\n",
    "base_bill = \"\"\n",
    "percentage = \"\"\n",
    "people = \"\"\n",
    "\n",
    "print(\"Welcome to the tip calculator.\")\n",
    "\n",
    "# get the base bill without tip\n",
    "while True:\n",
    "    print(\"What was the total bill?\")\n",
    "    base_bill = input(\"> $\")\n",
    "    # check if it can be converted to a float\n",
    "    try:\n",
    "        float(base_bill)\n",
    "        # check if it's not a negative number\n",
    "        # zero is fine, as they might be eating for free... not much sense asking for the other inputs then though\n",
    "        if float(base_bill) < 0:\n",
    "            print(\"The bill can't be negative. Please enter a valid amount.\")\n",
    "        # otherwise it should be fine\n",
    "        else:\n",
    "            break\n",
    "    # if not, ask again\n",
    "    except ValueError:\n",
    "        print(\"Please enter a valid amount.\")\n",
    "\n",
    "# get the percentage\n",
    "while True:\n",
    "    print(\"What percentage tip would you like to give? 10, 12, or 15?\")\n",
    "    percentage = input(\"> \")\n",
    "    # list of acceptable choices\n",
    "    choices_list = [\"10\", \"12\", \"15\"]\n",
    "    # make sure the input is one of them\n",
    "    if percentage not in choices_list:\n",
    "        print(\"Please enter 10, 12 or 15.\")\n",
    "    else:\n",
    "        break\n",
    "\n",
    "# get the number of people\n",
    "while True:\n",
    "    print(\"How many people to split the bill?\")\n",
    "    people = input(\"> \")\n",
    "    # make sure it's a non-zero natural number\n",
    "    if not people.isdigit() or people == \"0\":\n",
    "        print(\"Please enter a valid number of people (1,2,3, etc.)\")\n",
    "    else:\n",
    "        break\n",
    "\n",
    "# add the tip to the base bill\n",
    "total_bill = float(base_bill) * (1 + int(percentage) / 100)\n",
    "\n",
    "# calculate the split bill and round to 2 decimal places\n",
    "# since the number of people can't be zero, no need to worry about division by zero\n",
    "split_bill = round(total_bill / int(people), 2)\n",
    "\n",
    "# using a uniform message, even if there was just a single person\n",
    "print(f\"Each person should pay: ${split_bill}\")\n"
   ]
  }
 ],
 "metadata": {
  "kernelspec": {
   "display_name": "Python 3.9.12 ('tensorflow_env')",
   "language": "python",
   "name": "python3"
  },
  "language_info": {
   "name": "python",
   "version": "3.9.12"
  },
  "orig_nbformat": 4,
  "vscode": {
   "interpreter": {
    "hash": "48c58a8faa99d1d7fc4ed11d515bb62516ea0d3c877f299b181417070ade674b"
   }
  }
 },
 "nbformat": 4,
 "nbformat_minor": 2
}
