{
 "cells": [
  {
   "cell_type": "code",
   "execution_count": null,
   "metadata": {},
   "outputs": [],
   "source": [
    "# day-54-1-exercise\n",
    "# Complete the code exercise by printing out the speed it takes to run the fast_function() vs the slow_function().\n",
    "# You will need to complete the speed_calc_decorator() function.\n",
    "\n",
    "# import time\n",
    "# current_time = time.time()\n",
    "# print(current_time)\n",
    "\n",
    "# def speed_calc_decorator():\n",
    "#     pass\n",
    "\n",
    "# def fast_function():\n",
    "#     for i in range(10000000):\n",
    "#         i * i\n",
    "        \n",
    "# def slow_function():\n",
    "#     for i in range(100000000):\n",
    "#         i * i"
   ]
  },
  {
   "cell_type": "code",
   "execution_count": null,
   "metadata": {},
   "outputs": [],
   "source": [
    "import time\n",
    "\n",
    "current_time = time.time()\n",
    "print(current_time)\n",
    "\n",
    "def speed_calc_decorator(func):\n",
    "    def wrapper():\n",
    "        # starting time\n",
    "        start = time.time()\n",
    "        \n",
    "        # execute the function\n",
    "        func()\n",
    "        \n",
    "        # ending time - starting time\n",
    "        duration = time.time() - start\n",
    "        print(f\"{func.__name__} run speed: {duration}\")\n",
    "    # return the wrapped function\n",
    "    return wrapper\n",
    "\n",
    "@speed_calc_decorator\n",
    "def fast_function():\n",
    "    for i in range(10000000):\n",
    "        i * i\n",
    "\n",
    "@speed_calc_decorator\n",
    "def slow_function():\n",
    "    for i in range(100000000):\n",
    "        i * i\n",
    "\n",
    "fast_function()\n",
    "slow_function()"
   ]
  }
 ],
 "metadata": {
  "kernelspec": {
   "display_name": "Python 3.9.10 64-bit",
   "language": "python",
   "name": "python3"
  },
  "language_info": {
   "name": "python",
   "version": "3.9.10"
  },
  "orig_nbformat": 4,
  "vscode": {
   "interpreter": {
    "hash": "7274d498c25e074c3213a89917b8ecd63e91ebac93f7d645e62fb679a741fc76"
   }
  }
 },
 "nbformat": 4,
 "nbformat_minor": 2
}
