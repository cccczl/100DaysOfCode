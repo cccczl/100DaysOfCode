{
 "cells": [
  {
   "cell_type": "code",
   "execution_count": null,
   "metadata": {},
   "outputs": [],
   "source": [
    "# day-30-1-exercise\n",
    "# We've got some buggy code. Try running the code. The code will crash and give you an IndexError.\n",
    "# This is because we're looking through the list of fruits for an index that is out of range.\n",
    "# Use what you've learnt about exception handling to prevent the program from crashing.\n",
    "# If the user enters something that is out of range just print a default output of \"Fruit pie\"."
   ]
  },
  {
   "cell_type": "code",
   "execution_count": null,
   "metadata": {},
   "outputs": [],
   "source": [
    "# fruits = [\"Apple\", \"Pear\", \"Orange\"]\n",
    "\n",
    "# def make_pie(index):\n",
    "#     fruit = fruits[index]\n",
    "#     print(fruit + \" pie\")\n",
    "\n",
    "# make_pie(4)\n",
    "\n",
    "def make_pie(index):\n",
    "    try:\n",
    "        fruit = fruits[index]\n",
    "    except IndexError:\n",
    "        print(\"Fruit pie\")\n",
    "    else:\n",
    "        print(fruit + \" pie\")\n",
    "\n",
    "        \n",
    "fruits = [\"Apple\", \"Pear\", \"Orange\"]\n",
    "\n",
    "make_pie(4)"
   ]
  },
  {
   "cell_type": "code",
   "execution_count": null,
   "metadata": {},
   "outputs": [],
   "source": [
    "# day-30-2-exercise\n",
    "# We've got some buggy code, try running the code. The code will crash and give you a KeyError.\n",
    "# This is because some of the posts in the facebook_posts don't have any \"Likes\".\n",
    "# Use what you've learnt about exception handling to prevent the program from crashing."
   ]
  },
  {
   "cell_type": "code",
   "execution_count": null,
   "metadata": {},
   "outputs": [],
   "source": [
    "# facebook_posts = [\n",
    "#     {'Likes': 21, 'Comments': 2}, \n",
    "#     {'Likes': 13, 'Comments': 2, 'Shares': 1}, \n",
    "#     {'Likes': 33, 'Comments': 8, 'Shares': 3}, \n",
    "#     {'Comments': 4, 'Shares': 2}, \n",
    "#     {'Comments': 1, 'Shares': 1}, \n",
    "#     {'Likes': 19, 'Comments': 3}\n",
    "# ]\n",
    "\n",
    "# total_likes = 0\n",
    "\n",
    "# for post in facebook_posts:\n",
    "#     total_likes = total_likes + post['Likes']\n",
    "\n",
    "# print(total_likes)\n",
    "\n",
    "facebook_posts = [\n",
    "    {'Likes': 21, 'Comments': 2}, \n",
    "    {'Likes': 13, 'Comments': 2, 'Shares': 1}, \n",
    "    {'Likes': 33, 'Comments': 8, 'Shares': 3}, \n",
    "    {'Comments': 4, 'Shares': 2}, \n",
    "    {'Comments': 1, 'Shares': 1}, \n",
    "    {'Likes': 19, 'Comments': 3}\n",
    "]\n",
    "\n",
    "total_likes = 0\n",
    "\n",
    "for post in facebook_posts:\n",
    "    try:\n",
    "        total_likes = total_likes + post['Likes']\n",
    "    except KeyError:\n",
    "        # no need to do anything\n",
    "        pass\n",
    "\n",
    "print(total_likes)"
   ]
  }
 ],
 "metadata": {
  "kernelspec": {
   "display_name": "Python 3.9.10 64-bit",
   "language": "python",
   "name": "python3"
  },
  "language_info": {
   "codemirror_mode": {
    "name": "ipython",
    "version": 3
   },
   "file_extension": ".py",
   "mimetype": "text/x-python",
   "name": "python",
   "nbconvert_exporter": "python",
   "pygments_lexer": "ipython3",
   "version": "3.9.10"
  },
  "vscode": {
   "interpreter": {
    "hash": "7274d498c25e074c3213a89917b8ecd63e91ebac93f7d645e62fb679a741fc76"
   }
  }
 },
 "nbformat": 4,
 "nbformat_minor": 4
}
