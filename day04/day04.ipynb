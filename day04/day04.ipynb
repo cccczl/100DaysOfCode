{
 "cells": [
  {
   "cell_type": "code",
   "execution_count": null,
   "metadata": {},
   "outputs": [],
   "source": [
    "# Rock Paper Scissors\n",
    "#石头剪刀布\n",
    "\n",
    "import random\n",
    "\n",
    "\n",
    "rock = '''\n",
    "    _______\n",
    "---'   ____)\n",
    "      (_____)\n",
    "      (_____)\n",
    "      (____)\n",
    "---.__(___)\n",
    "'''\n",
    "\n",
    "paper = '''\n",
    "    _______\n",
    "---'   ____)____\n",
    "          ______)\n",
    "          _______)\n",
    "         _______)\n",
    "---.__________)\n",
    "'''\n",
    "\n",
    "scissors = '''\n",
    "    _______\n",
    "---'   ____)____\n",
    "          ______)\n",
    "       __________)\n",
    "      (____)\n",
    "---.__(___)\n",
    "'''\n",
    "\n",
    "# put them into a list for easier access\n",
    "choices_list = [rock, paper, scissors]\n",
    "\n",
    "print(\"What do you choose? Type 0 for Rock, 1 for Paper or 2 for Scissors.\")\n",
    "# make sure the input is valid\n",
    "options_list = [\"0\", \"1\", \"2\"]\n",
    "while True:\n",
    "    player_choice_str = input(\"> \")\n",
    "    if player_choice_str not in options_list:\n",
    "        print(\"Invalid choice. Type 0 for Rock, 1 for Paper or 2 for Scissors.\")\n",
    "    else:\n",
    "        break\n",
    "\n",
    "# change the data type now, should be safe now since we are sure it's one of the valid options\n",
    "player_choice = int(player_choice_str)\n",
    "print(choices_list[player_choice])\n",
    "\n",
    "# computer's choice\n",
    "cpu_choice = random.randint(0, 2)\n",
    "print(\"Computer chose:\")\n",
    "print(choices_list[cpu_choice])\n",
    "\n",
    "# evaluate the result\n",
    "# if the same, it's a tie\n",
    "if player_choice == cpu_choice:\n",
    "    print(\"It's a tie.\")\n",
    "# cases when the player wins: (rock and scissors) or (paper and rock) or (scissors and paper)\n",
    "elif (player_choice == 0 and cpu_choice == 2) or\\\n",
    "        (player_choice == 1 and cpu_choice == 0) or\\\n",
    "        (player_choice == 2 and cpu_choice == 1):\n",
    "    print(\"You win.\")\n",
    "# anything else means the cpu wins\n",
    "else:\n",
    "    print(\"You lose.\")\n"
   ]
  }
 ],
 "metadata": {
  "kernelspec": {
   "display_name": "Python 3.9.12 ('tensorflow_env')",
   "language": "python",
   "name": "python3"
  },
  "language_info": {
   "name": "python",
   "version": "3.9.12"
  },
  "orig_nbformat": 4,
  "vscode": {
   "interpreter": {
    "hash": "48c58a8faa99d1d7fc4ed11d515bb62516ea0d3c877f299b181417070ade674b"
   }
  }
 },
 "nbformat": 4,
 "nbformat_minor": 2
}
