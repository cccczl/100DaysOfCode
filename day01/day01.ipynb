{
 "cells": [
  {
   "cell_type": "markdown",
   "metadata": {},
   "source": [
    "今天我们将学习，打印；注释；调试；字符串操作；变量"
   ]
  },
  {
   "cell_type": "code",
   "execution_count": null,
   "metadata": {},
   "outputs": [],
   "source": [
    "# day-1-1-exercise\n",
    "#When you run your program, it should print the following:\n",
    "\n",
    "#Day 1 - Python Print Function\n",
    "#The function is declared like this:\n",
    "#print('what to print')"
   ]
  },
  {
   "cell_type": "code",
   "execution_count": null,
   "metadata": {},
   "outputs": [],
   "source": [
    "print('Day 1 - Python Print Function')\n",
    "print(\"The function is declared like this:\")\n",
    "print(\"print('what to print')\")"
   ]
  },
  {
   "cell_type": "code",
   "execution_count": null,
   "metadata": {},
   "outputs": [],
   "source": [
    "# day-1-2-exercise\n",
    "#When you run your program, it should print the following:\n",
    "#Day 1 - string Manipulation\n",
    "#string concatenation is done with the \"+\" sign.\n",
    "#e.g. print(\"Hello \" + \"world\" )\n",
    "#New lines can be areated with a backslash and n."
   ]
  },
  {
   "cell_type": "code",
   "execution_count": null,
   "metadata": {},
   "outputs": [],
   "source": [
    "print(Day 1 - String Hanipulation\")\n",
    "print(\"str ing Concatenation is done with the \"+\" sign.\")\n",
    "  print('e.g. print(\"Hello \" + \"world\")')\n",
    "print((\"New lines can be created with a backslash and n.\")"
   ]
  },
  {
   "cell_type": "code",
   "execution_count": null,
   "metadata": {},
   "outputs": [],
   "source": [
    "# day-1-3-exercise\n",
    "#Warning. Your program should work for different inputs. e.g. any name that you input.\n",
    "#Example Input\n",
    "#agela\n",
    "#Example Output\n",
    "#6"
   ]
  },
  {
   "cell_type": "code",
   "execution_count": null,
   "metadata": {},
   "outputs": [],
   "source": [
    "print(len(input(\"What is your name?\")))"
   ]
  },
  {
   "cell_type": "code",
   "execution_count": null,
   "metadata": {},
   "outputs": [],
   "source": [
    "## day-1-4-exercise\n",
    "#Write a program that switches the values stored in the variables a and b.\n",
    "#Warning. Do not change the code on lines 1-4 and 15-18. Your program should work for different inputs. e.g. any value of a and b.\n",
    "#Example Input\n",
    "#a: 3\n",
    "#b: 5\n",
    "#Example Output\n",
    "#a: 5\n",
    "#b: 3"
   ]
  },
  {
   "cell_type": "code",
   "execution_count": null,
   "metadata": {},
   "outputs": [],
   "source": [
    "# Don't change the code beLow\n",
    "a = input(\"a:\")\n",
    "b = input(\"b:\")\n",
    "# Don't change the code above\n",
    "#########################\n",
    "#Write your code below this line\n",
    "c = a\n",
    "a = b\n",
    "b = c\n",
    "print(a)\n",
    "print(b)\n",
    "#Write vour code above this line"
   ]
  }
 ],
 "metadata": {
  "kernelspec": {
   "display_name": "Python 3.9.12 ('base')",
   "language": "python",
   "name": "python3"
  },
  "language_info": {
   "codemirror_mode": {
    "name": "ipython",
    "version": 3
   },
   "file_extension": ".py",
   "mimetype": "text/x-python",
   "name": "python",
   "nbconvert_exporter": "python",
   "pygments_lexer": "ipython3",
   "version": "3.9.12"
  },
  "vscode": {
   "interpreter": {
    "hash": "de06b34ddb11d351d9b2ac1115aa8d67757653cc6c883c4b66f1d79040ffb735"
   }
  }
 },
 "nbformat": 4,
 "nbformat_minor": 4
}
