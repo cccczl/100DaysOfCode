{
 "cells": [
  {
   "cell_type": "code",
   "execution_count": null,
   "metadata": {},
   "outputs": [],
   "source": [
    "# day-10-1-exercise\n",
    "# You are then going to create a function called days_in_month() which will take a year and a month as inputs\n",
    "# And it will use this information to work out the number of days in the month, then return that as the output"
   ]
  },
  {
   "cell_type": "code",
   "execution_count": null,
   "metadata": {},
   "outputs": [],
   "source": [
    "# don't really care for amount of \"return\" statements and the parameter having the same name as the\n",
    "# variable outside the function, but leaving them in since they were part of the assignment\n",
    "def is_leap(year):\n",
    "    if year % 4 == 0:\n",
    "        if year % 100 == 0:\n",
    "            if year % 400 == 0:\n",
    "                return True\n",
    "            # the \"else:\" clause isn't really needed for these\n",
    "            return False\n",
    "        return True\n",
    "    return False\n",
    "\n",
    "\n",
    "# assuming proper inputs for these, i.e. months in range 1-12\n",
    "def days_in_month(yr, mo):\n",
    "    month_days = [31, 28, 31, 30, 31, 30, 31, 31, 30, 31, 30, 31] \n",
    "    # for February in a leap year\n",
    "    if mo == 2 and is_leap(yr):\n",
    "        # avoiding hard-coding the number\n",
    "        return month_days[1] + 1\n",
    "    # no need for the \"else:\" bit here either\n",
    "    return month_days[mo - 1]\n",
    "\n",
    "\n",
    "#🚨 Do NOT change any of the code below \n",
    "year = int(input(\"Enter a year: \"))\n",
    "month = int(input(\"Enter a month: \"))\n",
    "days = days_in_month(year, month)\n",
    "print(days)"
   ]
  }
 ],
 "metadata": {
  "kernelspec": {
   "display_name": "Python 3.9.10 64-bit",
   "language": "python",
   "name": "python3"
  },
  "language_info": {
   "name": "python",
   "version": "3.9.10"
  },
  "orig_nbformat": 4,
  "vscode": {
   "interpreter": {
    "hash": "7274d498c25e074c3213a89917b8ecd63e91ebac93f7d645e62fb679a741fc76"
   }
  }
 },
 "nbformat": 4,
 "nbformat_minor": 2
}
