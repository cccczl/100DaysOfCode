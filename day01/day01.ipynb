{
 "cells": [
  {
   "cell_type": "code",
   "execution_count": 7,
   "metadata": {},
   "outputs": [
    {
     "name": "stdout",
     "output_type": "stream",
     "text": [
      "欢迎使用乐队名称生成器。\n",
      "What's the name of the city you grew up in?\n",
      "What's your pet's name?\n",
      "Your band name could be ddd eee.\n",
      "Your band name could be ddd eee.\n",
      "Your band name could be ddd eee. \n"
     ]
    }
   ],
   "source": [
    "# Band Name Generator\n",
    "# 乐队名称生成器\n",
    "print(\"欢迎使用乐队名称生成器。\")\n",
    "\n",
    "# initialize the variables as empty strings\n",
    "# 将变量初始化为空字符\n",
    "city = \"\"\n",
    "pet_name = \"\"\n",
    "\n",
    "# simple check to make sure the user has entered something\n",
    "# 简单的检查，确保用户已经输入了内容\n",
    "\n",
    "while True:\n",
    "    print(\"What's the name of the city you grew up in?\")\n",
    "    city = input(\"> \")\n",
    "    # if there's no input, ask again\n",
    "    # 如果没有输入，再问一次\n",
    "    if city == \"\":\n",
    "        print(\"You haven't entered anything. Please try again.\")\n",
    "    # if there's any input at all, break out of the loop\n",
    "    # 如果有输入，就跳出循环\n",
    "    else:\n",
    "        break\n",
    "\n",
    "# do the same for the pet name\n",
    "# 接受乐队名输入检查，和上段代码同样处理\n",
    "while True:\n",
    "    print(\"What's your pet's name?\")\n",
    "    pet_name = input(\"> \")\n",
    "    if pet_name == \"\":\n",
    "        print(\"You haven't entered anything. Please try again.\")\n",
    "    else:\n",
    "        break\n",
    "\n",
    "# output using f-strings makes the code much more readable\n",
    "# 使用f-strings的输出使代码可读性更强\n",
    "print(f\"Your band name could be {city} {pet_name}.\")\n",
    "print(\"Your band name could be {} {}.\".format(city,pet_name))\n",
    "print(\"Your band name could be \"+city, pet_name+\". \")\n"
   ]
  }
 ],
 "metadata": {
  "kernelspec": {
   "display_name": "Python 3.9.12 ('tensorflow_env')",
   "language": "python",
   "name": "python3"
  },
  "language_info": {
   "codemirror_mode": {
    "name": "ipython",
    "version": 3
   },
   "file_extension": ".py",
   "mimetype": "text/x-python",
   "name": "python",
   "nbconvert_exporter": "python",
   "pygments_lexer": "ipython3",
   "version": "3.9.12"
  },
  "orig_nbformat": 4,
  "vscode": {
   "interpreter": {
    "hash": "48c58a8faa99d1d7fc4ed11d515bb62516ea0d3c877f299b181417070ade674b"
   }
  }
 },
 "nbformat": 4,
 "nbformat_minor": 2
}
