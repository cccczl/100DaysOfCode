{
 "cells": [
  {
   "cell_type": "code",
   "execution_count": null,
   "metadata": {},
   "outputs": [],
   "source": [
    "# day-55-1-exercise\n",
    "# Create a logging_decorator() which is going to log the name of the function that was called,\n",
    "# the arguments it was given and finally the returned output."
   ]
  },
  {
   "cell_type": "code",
   "execution_count": null,
   "metadata": {},
   "outputs": [],
   "source": [
    "# Create the logging_decorator() function 👇\n",
    "\n",
    "def logging_decorator(func):\n",
    "    def wrapper(*args):\n",
    "        print(f\"Function name: {func.__name__}\\nFunction args: {args}\\nOutput: {func(*args)}\")\n",
    "    return wrapper\n",
    "\n",
    "# Use the decorator 👇\n",
    "\n",
    "@logging_decorator\n",
    "def a_function(a, b):\n",
    "    return a + b\n",
    "    \n",
    "a_function(3, 4)"
   ]
  }
 ],
 "metadata": {
  "kernelspec": {
   "display_name": "Python 3.9.10 64-bit",
   "language": "python",
   "name": "python3"
  },
  "language_info": {
   "codemirror_mode": {
    "name": "ipython",
    "version": 3
   },
   "file_extension": ".py",
   "mimetype": "text/x-python",
   "name": "python",
   "nbconvert_exporter": "python",
   "pygments_lexer": "ipython3",
   "version": "3.9.10"
  },
  "vscode": {
   "interpreter": {
    "hash": "7274d498c25e074c3213a89917b8ecd63e91ebac93f7d645e62fb679a741fc76"
   }
  }
 },
 "nbformat": 4,
 "nbformat_minor": 4
}
