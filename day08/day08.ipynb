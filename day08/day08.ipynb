{
 "cells": [
  {
   "cell_type": "code",
   "execution_count": null,
   "metadata": {},
   "outputs": [],
   "source": [
    "# day-8-1-exercise\n",
    "# You are painting a wall. The instructions on the paint can says that 1 can of paint can cover 5 square meters of wall.\n",
    "# Given a random height and width of wall, calculate how many cans of paint you'll need to buy."
   ]
  },
  {
   "cell_type": "code",
   "execution_count": null,
   "metadata": {},
   "outputs": [],
   "source": [
    "#Write your code below this line 👇\n",
    "\n",
    "import math\n",
    "\n",
    "\n",
    "def paint_calc(height, width, cover):\n",
    "    cans = math.ceil((height * width) / cover)\n",
    "    print(f\"You'll need {cans} cans of paint.\")\n",
    "\n",
    "#Write your code above this line 👆\n",
    "# Define a function called paint_calc() so that the code below works.  height, width, cover :\n",
    "\n",
    "# 🚨 Don't change the code below 👇\n",
    "test_h = int(input(\"Height of wall: \"))\n",
    "test_w = int(input(\"Width of wall: \"))\n",
    "coverage = 5\n",
    "paint_calc(height=test_h, width=test_w, cover=coverage)"
   ]
  },
  {
   "cell_type": "code",
   "execution_count": null,
   "metadata": {},
   "outputs": [],
   "source": [
    "# day-8-2-exercise\n",
    "# You need to write a function that checks whether if the number passed into it is a prime number or not.\n",
    "# e.g. 2 is a prime number because it's only divisible by 1 and 2.\n",
    "# But 4 is not a prime number because you can divide it by 1, 2 or 4."
   ]
  },
  {
   "cell_type": "code",
   "execution_count": null,
   "metadata": {},
   "outputs": [],
   "source": [
    "#Write your code below this line 👇\n",
    "\n",
    "def prime_checker(number):\n",
    "    # assuming the input is a proper non-zero natural number\n",
    "    is_prime = True\n",
    "    \n",
    "    # 1 is NOT a prime number, it's specifically excluded\n",
    "    if number == 1:\n",
    "        is_prime = False\n",
    "    # also making a special case for 2, since it's the only even prime number\n",
    "    elif number == 2:\n",
    "        # could have just used \"pass\" here, but to be explicit:\n",
    "        is_prime = True\n",
    "    else:\n",
    "        # check all other integers up to that number (but not including)\n",
    "        for num in range(2, number):\n",
    "            if number % num == 0:\n",
    "                is_prime = False\n",
    "                # no need to check the rest of the numbers, so break out of the loop\n",
    "                break\n",
    "\n",
    "    if is_prime:\n",
    "        print(\"It's a prime number.\")\n",
    "    else:\n",
    "        print(\"It's not a prime number.\")\n",
    "\n",
    "#Write your code above this line 👆\n",
    "    \n",
    "#Do NOT change any of the code below👇\n",
    "n = int(input(\"Check this number: \"))\n",
    "prime_checker(number=n)"
   ]
  }
 ],
 "metadata": {
  "kernelspec": {
   "display_name": "Python 3.9.10 64-bit",
   "language": "python",
   "name": "python3"
  },
  "language_info": {
   "name": "python",
   "version": "3.9.10"
  },
  "orig_nbformat": 4,
  "vscode": {
   "interpreter": {
    "hash": "7274d498c25e074c3213a89917b8ecd63e91ebac93f7d645e62fb679a741fc76"
   }
  }
 },
 "nbformat": 4,
 "nbformat_minor": 2
}
