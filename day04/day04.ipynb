{
 "cells": [
  {
   "cell_type": "code",
   "execution_count": null,
   "metadata": {},
   "outputs": [],
   "source": [
    "# day-4-1-exercise\n",
    "# You are going to write a virtual coin toss program. It will randomly tell the user \"Heads\" or \"Tails\"."
   ]
  },
  {
   "cell_type": "code",
   "execution_count": null,
   "metadata": {},
   "outputs": [],
   "source": [
    "import random\n",
    "\n",
    "random.seed(123)\n",
    "\n",
    "\n",
    "# do 10 attempts\n",
    "for i in range(1, 11):\n",
    "    if random.randint(0, 1) == 1:\n",
    "        print(f\"Attempt {i}: Heads.\")\n",
    "    else:\n",
    "        print(f\"Attempt {i}: Tails.\")"
   ]
  },
  {
   "cell_type": "code",
   "execution_count": null,
   "metadata": {},
   "outputs": [],
   "source": [
    "# day-4-2-exercise\n",
    "# You are going to write a program which will select a random name from a list of names.\n",
    "# The person selected will have to pay for everybody's food bill.\n",
    "# Important: You are not allowed to use the choice() function."
   ]
  },
  {
   "cell_type": "code",
   "execution_count": null,
   "metadata": {},
   "outputs": [],
   "source": [
    "# Split string method\n",
    "# names_string = input(\"Give me everybody's names, separated by a comma. \")\n",
    "# names = names_string.split(\", \")\n",
    "# 🚨 Don't change the code above 👆\n",
    "\n",
    "#Write your code below this line 👇\n",
    "\n",
    "# not actually needed, since already imported above, but including for completeness' sake\n",
    "import random\n",
    "\n",
    "\n",
    "# to avoid having to type manually\n",
    "names_string = \"Andrea, Bob, Claire, Daniel, Esther, Freddie\"\n",
    "names = names_string.split(\", \")\n",
    "\n",
    "# make 10 attempts\n",
    "for attempt in range(10):\n",
    "    # length - 1 because we have to start from 0 in order to use the value as the index\n",
    "    i = random.randint(0, len(names) - 1)\n",
    "    print(f\"{names[i]} will have to pay the bill.\")\n"
   ]
  },
  {
   "cell_type": "code",
   "execution_count": null,
   "metadata": {},
   "outputs": [],
   "source": [
    "# day-4-3-exercise\n",
    "# You are going to write a program which will mark a spot with an X."
   ]
  },
  {
   "cell_type": "code",
   "execution_count": null,
   "metadata": {},
   "outputs": [],
   "source": [
    "# 🚨 Don't change the code below 👇\n",
    "row1 = [\"⬜️\",\"⬜️\",\"⬜️\"]\n",
    "row2 = [\"⬜️\",\"⬜️\",\"⬜️\"]\n",
    "row3 = [\"⬜️\",\"⬜️\",\"⬜️\"]\n",
    "map = [row1, row2, row3]\n",
    "print(f\"{row1}\\n{row2}\\n{row3}\")\n",
    "# position = input(\"Where do you want to put the treasure? \")\n",
    "# 🚨 Don't change the code above 👆\n",
    "\n",
    "#Write your code below this row 👇\n",
    "\n",
    "# rather than manually entering the coordinates, might as well just make them random\n",
    "import random\n",
    "\n",
    "\n",
    "# they need to be 1-3 to match the input from the assignment\n",
    "position = str(random.randint(1, 3)) + str(random.randint(1, 3))\n",
    "# print out for reference\n",
    "print(f\"\\nThe random position is: {position}\\n\")\n",
    "\n",
    "# usually it would be a good idea to check that the string has a length of 2\n",
    "# and that the characters are actually numerals matching the dimensions of the list of lists (i.e. matrix)\n",
    "column = int(position[0]) - 1\n",
    "row = int(position[1]) - 1\n",
    "\n",
    "# the output is ugly if a simple \"x\" is used, this looks nicer\n",
    "map[row][column] = \"⬛\"\n",
    "\n",
    "#Write your code above this row 👆\n",
    "\n",
    "# 🚨 Don't change the code below 👇\n",
    "print(f\"{row1}\\n{row2}\\n{row3}\")"
   ]
  }
 ],
 "metadata": {
  "kernelspec": {
   "display_name": "Python 3.9.10 64-bit",
   "language": "python",
   "name": "python3"
  },
  "language_info": {
   "name": "python",
   "version": "3.9.10"
  },
  "orig_nbformat": 4,
  "vscode": {
   "interpreter": {
    "hash": "7274d498c25e074c3213a89917b8ecd63e91ebac93f7d645e62fb679a741fc76"
   }
  }
 },
 "nbformat": 4,
 "nbformat_minor": 2
}
