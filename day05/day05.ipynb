{
 "cells": [
  {
   "cell_type": "code",
   "execution_count": null,
   "metadata": {},
   "outputs": [],
   "source": [
    "# day-5-1-exercise\n",
    "# You are going to write a program that calculates the average student height from a List of heights.\n",
    "# Important You should not use the sum() or len() functions in your answer."
   ]
  },
  {
   "cell_type": "code",
   "execution_count": null,
   "metadata": {},
   "outputs": [],
   "source": [
    "# 🚨 Don't change the code below 👇\n",
    "# student_heights = input(\"Input a list of student heights \").split()\n",
    "# for n in range(0, len(student_heights)):\n",
    "#   student_heights[n] = int(student_heights[n])\n",
    "# 🚨 Don't change the code above 👆\n",
    "\n",
    "\n",
    "#Write your code below this row 👇\n",
    "\n",
    "# again, to avoid manual input\n",
    "input_string = \"156 178 165 171 187\"\n",
    "\n",
    "# the code from above... except the loop that used len()\n",
    "student_heights = input_string.split()\n",
    "\n",
    "# calculate the total sum and count the students\n",
    "# note: this is \"sum\" is a variable, not the method \".sum()\"\n",
    "total_height = 0\n",
    "count = 0\n",
    "for height in student_heights:\n",
    "    # assuming that the strings are acceptable values (i.e. just numerals)\n",
    "    total_height += int(height)\n",
    "    count +=1\n",
    "\n",
    "# to avoid division by zero in case a manual input would be used\n",
    "if count == 0:\n",
    "    print(f\"Can't calculate the average height of {count} students.\")\n",
    "else:\n",
    "    avg_height = round(total_height / count, 2)\n",
    "    print(f\"The average height of the {count} students is {avg_height}.\")\n",
    "    "
   ]
  },
  {
   "cell_type": "code",
   "execution_count": null,
   "metadata": {},
   "outputs": [],
   "source": [
    "# day-5-2-exercise\n",
    "# You are going to write a program that calculates the highest score from a List of scores.\n",
    "# Important you are not allowed to use the max or min functions. The output words must match the example. i.e"
   ]
  },
  {
   "cell_type": "code",
   "execution_count": null,
   "metadata": {},
   "outputs": [],
   "source": [
    "# 🚨 Don't change the code below 👇\n",
    "# student_scores = input(\"Input a list of student scores \").split()\n",
    "# for n in range(0, len(student_scores)):\n",
    "#   student_scores[n] = int(student_scores[n])\n",
    "# print(student_scores)\n",
    "# 🚨 Don't change the code above 👆\n",
    "\n",
    "#Write your code below this row 👇\n",
    "\n",
    "input_string = \"78 65 89 86 55 91 64 89\"\n",
    "\n",
    "# the code from above\n",
    "student_scores = input_string.split()\n",
    "for n in range(0, len(student_scores)):\n",
    "  student_scores[n] = int(student_scores[n])\n",
    "print(student_scores)\n",
    "\n",
    "# use a variable to store the highest value\n",
    "# start with the first one in the list, assume it is the highest unless a higher one is found\n",
    "max_score = student_scores[0]\n",
    "\n",
    "# if either of the remaining values is higher, replace it with that value\n",
    "# using \"for score in student_scores:\" would essentially compare the first value with itself, no need for that\n",
    "# so just loop over the rest\n",
    "for i in range(1, len(student_scores)):\n",
    "    if student_scores[i] > max_score:\n",
    "        max_score = student_scores[i]\n",
    "\n",
    "print(f\"The highest score in the class is: {max_score}\")\n"
   ]
  },
  {
   "cell_type": "code",
   "execution_count": null,
   "metadata": {},
   "outputs": [],
   "source": [
    "# day-5-3-exercise\n",
    "# You are going to write a program that calculates the sum of all the even numbers from 1 to 100, including 2 and 100."
   ]
  },
  {
   "cell_type": "code",
   "execution_count": null,
   "metadata": {},
   "outputs": [],
   "source": [
    "sum = 0\n",
    "\n",
    "for num in range(1, 101):\n",
    "    # if divisible by 2, it's a even number\n",
    "    if num % 2 == 0:\n",
    "        sum += num\n",
    "\n",
    "print(f\"The sum of all the even numbers from 1 to 100 (including) is: {sum}\")"
   ]
  },
  {
   "cell_type": "code",
   "execution_count": null,
   "metadata": {},
   "outputs": [],
   "source": [
    "# day-5-4-exercise\n",
    "# You are going to write a program that automatically prints the solution to the FizzBuzz game."
   ]
  },
  {
   "cell_type": "code",
   "execution_count": null,
   "metadata": {},
   "outputs": [],
   "source": [
    "# Your program should print each number from 1 to 100 in turn.\n",
    "# When the number is divisible by 3 then instead of printing the number it should print \"Fizz\".\n",
    "# When the number is divisible by 5, then instead of printing the number it should print \"Buzz\". \n",
    "# And if the number is divisible by both 3 and 5 e.g. 15 then instead of the number it should print \"FizzBuzz\"\n",
    "\n",
    "for num in range(1, 101):\n",
    "    # initialize the output as an empty string and clear it with each iteration\n",
    "    output = \"\"\n",
    "    \n",
    "    # if divisible by 3, add \"Fizz\" to the output\n",
    "    if num % 3 == 0:\n",
    "        # output = \"Fizz\" would work just as well,\n",
    "        # but this way is slightly less \"destructive\" and would make potential bugs much easier to spot\n",
    "        output += \"Fizz\"\n",
    "        \n",
    "    # if divisible by 5, add \"Buzz\" to the output\n",
    "    if num % 5 == 0:\n",
    "        output += \"Buzz\"\n",
    "        \n",
    "    # if the output is still an empty string, add the number itself\n",
    "    if output == \"\":\n",
    "        # output = str(num) would work just as well here too\n",
    "        output += str(num)\n",
    "        \n",
    "    # print the output string\n",
    "    print(output)\n"
   ]
  }
 ],
 "metadata": {
  "kernelspec": {
   "display_name": "Python 3.9.10 64-bit",
   "language": "python",
   "name": "python3"
  },
  "language_info": {
   "codemirror_mode": {
    "name": "ipython",
    "version": 3
   },
   "file_extension": ".py",
   "mimetype": "text/x-python",
   "name": "python",
   "nbconvert_exporter": "python",
   "pygments_lexer": "ipython3",
   "version": "3.9.10"
  },
  "vscode": {
   "interpreter": {
    "hash": "7274d498c25e074c3213a89917b8ecd63e91ebac93f7d645e62fb679a741fc76"
   }
  }
 },
 "nbformat": 4,
 "nbformat_minor": 4
}
