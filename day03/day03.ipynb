{
 "cells": [
  {
   "cell_type": "code",
   "execution_count": null,
   "metadata": {},
   "outputs": [],
   "source": [
    "# day-3-1-exercise\n",
    "# Write a program that works out whether if a given number is an odd or even number."
   ]
  },
  {
   "cell_type": "code",
   "execution_count": null,
   "metadata": {},
   "outputs": [],
   "source": [
    "# 🚨 Don't change the code below 👇\n",
    "# number = int(input(\"Which number do you want to check? \"))\n",
    "# 🚨 Don't change the code above 👆\n",
    "\n",
    "#Write your code below this line 👇\n",
    "\n",
    "# just using a list because inputting values manually is tedious\n",
    "num_list = [2, 6, 9, 15, 20]\n",
    "for num in num_list:\n",
    "    if num % 2 == 0:\n",
    "        print(f\"{num} is even.\")\n",
    "    else:\n",
    "        print(f\"{num} is odd.\")"
   ]
  },
  {
   "cell_type": "code",
   "execution_count": null,
   "metadata": {},
   "outputs": [],
   "source": [
    "# day-3-2-exercise\n",
    "# Write a program that interprets the Body Mass Index (BMI) based on a user's weight and height. (BMI Calculator 2.0)"
   ]
  },
  {
   "cell_type": "code",
   "execution_count": null,
   "metadata": {},
   "outputs": [],
   "source": [
    "# 🚨 Don't change the code below 👇\n",
    "# height = float(input(\"enter your height in m: \"))\n",
    "# weight = float(input(\"enter your weight in kg: \"))\n",
    "# 🚨 Don't change the code above 👆\n",
    "\n",
    "#Write your code below this line 👇\n",
    "\n",
    "# using a list of tuples because inputting values manually is tedious\n",
    "tuples_list = [(1.75, 65), (1.85, 125), (1.68, 56), (1.77, 92)]\n",
    "\n",
    "for person in tuples_list:\n",
    "    # de-structure the tuple\n",
    "    height, weight = person\n",
    "    # no need to convert the value types now, since they are not strings\n",
    "    bmi = round(weight / (height ** 2), 1)\n",
    "    if bmi < 18.5:\n",
    "        print(f\"Your BMI is {bmi}, you are underweight.\")\n",
    "    elif bmi >= 18.5 and bmi < 25:\n",
    "        print(f\"Your BMI is {bmi}, you have a normal weight.\")\n",
    "    elif bmi >= 25 and bmi < 30:\n",
    "        print(f\"Your BMI is {bmi}, you are overweight.\")\n",
    "    elif bmi >= 30 and bmi < 35:\n",
    "        print(f\"Your BMI is {bmi}, you are obese.\")\n",
    "    else:\n",
    "        print(f\"Your BMI is {bmi}, you are clinically obese.\")\n"
   ]
  },
  {
   "cell_type": "code",
   "execution_count": null,
   "metadata": {},
   "outputs": [],
   "source": [
    "# day-3-3-exercise\n",
    "# Write a program that works out whether if a given year is a leap year. A normal year has 365 days,\n",
    "# leap years have 366, with an extra day in February. "
   ]
  },
  {
   "cell_type": "code",
   "execution_count": null,
   "metadata": {},
   "outputs": [],
   "source": [
    "# 🚨 Don't change the code below 👇\n",
    "# year = int(input(\"Which year do you want to check? \"))\n",
    "# 🚨 Don't change the code above 👆\n",
    "\n",
    "#Write your code below this line 👇\n",
    "\n",
    "year_list = [1896, 1900, 2020, 2021, 3000]\n",
    "for year in year_list:\n",
    "    # on every year that is evenly divisible by 4 \n",
    "    # **except** every year that is evenly divisible by 100 \n",
    "    # **unless** the year is also evenly divisible by 400\n",
    "    if year % 4 == 0 and (year % 100 != 0 or year % 400 == 0):\n",
    "        print(f\"{year} is a leap year.\")\n",
    "    else:\n",
    "        print(f\"{year} is not a leap year.\")"
   ]
  },
  {
   "cell_type": "code",
   "execution_count": null,
   "metadata": {},
   "outputs": [],
   "source": [
    "# day-3-4-exercise\n",
    "# Congratulations, you've got a job at Python Pizza. Your first job is to build an automatic pizza order program.\n",
    "# Based on a user's order, work out their final bill."
   ]
  },
  {
   "cell_type": "code",
   "execution_count": null,
   "metadata": {},
   "outputs": [],
   "source": [
    "# 🚨 Don't change the code below 👇\n",
    "print(\"Welcome to Python Pizza Deliveries!\")\n",
    "# size = input(\"What size pizza do you want? S, M, or L \")\n",
    "# add_pepperoni = input(\"Do you want pepperoni? Y or N \")\n",
    "# extra_cheese = input(\"Do you want extra cheese? Y or N \")\n",
    "# 🚨 Don't change the code above 👆\n",
    "\n",
    "#Write your code below this line 👇\n",
    "\n",
    "orders_list = [(\"S\", True, True), (\"M\", False, True), (\"L\", True, True), (\"L\", False, False)]\n",
    "\n",
    "for order in orders_list:\n",
    "    price = 0\n",
    "    size, pepperoni, extra_cheese = order\n",
    "    \n",
    "    if size == \"S\":\n",
    "        price += 15\n",
    "    elif size == \"M\":\n",
    "        price += 20\n",
    "    else:\n",
    "        price += 25\n",
    "    \n",
    "    if pepperoni:\n",
    "        if size == \"S\":\n",
    "            price += 2\n",
    "        else:\n",
    "            price += 3\n",
    "    \n",
    "    if extra_cheese:\n",
    "        price += 1\n",
    "    print(f\"Your final bill is: ${price}.\")"
   ]
  },
  {
   "cell_type": "code",
   "execution_count": null,
   "metadata": {},
   "outputs": [],
   "source": [
    "# day-3-5-exercise\n",
    "# You are going to write a program that tests the compatibility between two people."
   ]
  },
  {
   "cell_type": "code",
   "execution_count": null,
   "metadata": {},
   "outputs": [],
   "source": [
    "# 🚨 Don't change the code below 👇\n",
    "print(\"Welcome to the Love Calculator!\")\n",
    "# name1 = input(\"What is your name? \\n\")\n",
    "# name2 = input(\"What is their name? \\n\")\n",
    "# 🚨 Don't change the code above 👆\n",
    "\n",
    "#Write your code below this line 👇\n",
    "\n",
    "pairs_list = [(\"Angela Yu\", \"Jack Bauer\"), (\"Kanye West\", \"Kim Kardashian\"), (\"Brad Pitt\", \"Jennifer Aniston\")]\n",
    "\n",
    "for pair in pairs_list:\n",
    "    # Take both people's names and check for the number of times the letters in the word TRUE occurs. \n",
    "    # Then check for the number of times the letters in the word LOVE occurs.\n",
    "    # Then combine these numbers to make a 2 digit number.\n",
    "    score1 = 0\n",
    "    score2 = 0\n",
    "    \n",
    "    # merge the tuple into a single string, and turn each character into uppercase\n",
    "    names = \"\".join(pair).upper()\n",
    "    \n",
    "    for char in \"TRUE\":\n",
    "        score1 += names.count(char)\n",
    "    for char in \"LOVE\":\n",
    "        score2 += names.count(char)\n",
    "        \n",
    "    final_score_string = str(score1) + str(score2)\n",
    "    # convert it now for less typing later\n",
    "    final_score = int(final_score_string)\n",
    "    \n",
    "    # not sure whether \"=\" is supposed be included in either condition, so just skipping it\n",
    "    if final_score < 10 or final_score > 90:\n",
    "        print(f\"Your score is {final_score}, you go together like coke and mentos.\")\n",
    "    elif final_score > 40 and final_score < 50:\n",
    "        print(f\"Your score is {final_score}, you are alright together.\")\n",
    "    else:\n",
    "        print(f\"Your score is {final_score}.\")\n",
    "        "
   ]
  }
 ],
 "metadata": {
  "kernelspec": {
   "display_name": "Python 3.9.10 64-bit",
   "language": "python",
   "name": "python3"
  },
  "language_info": {
   "codemirror_mode": {
    "name": "ipython",
    "version": 3
   },
   "file_extension": ".py",
   "mimetype": "text/x-python",
   "name": "python",
   "nbconvert_exporter": "python",
   "pygments_lexer": "ipython3",
   "version": "3.9.10"
  },
  "orig_nbformat": 4,
  "vscode": {
   "interpreter": {
    "hash": "7274d498c25e074c3213a89917b8ecd63e91ebac93f7d645e62fb679a741fc76"
   }
  }
 },
 "nbformat": 4,
 "nbformat_minor": 2
}
