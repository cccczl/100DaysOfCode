{
 "cells": [
  {
   "cell_type": "code",
   "execution_count": 1,
   "metadata": {},
   "outputs": [],
   "source": [
    "# day-13-1-exercise\n",
    "# Debug Odd or Even\n",
    "\n",
    "# number = int(input(\"Which number do you want to check?\"))\n",
    "\n",
    "# if number % 2 = 0:\n",
    "#   print(\"This is an even number.\")\n",
    "# else:\n",
    "#   print(\"This is an odd number.\")"
   ]
  },
  {
   "cell_type": "code",
   "execution_count": 4,
   "metadata": {},
   "outputs": [
    {
     "name": "stdout",
     "output_type": "stream",
     "text": [
      "Which number do you want to check? 7\n",
      "This is an odd number.\n"
     ]
    }
   ],
   "source": [
    "# assuming a valid input\n",
    "# added an extra space at the end of the string to make it more readable\n",
    "number = int(input(\"Which number do you want to check? \"))\n",
    "\n",
    "# needs a comparison operator \"==\", rather than the \"=\" assignment\n",
    "if number % 2 == 0:\n",
    "    print(\"This is an even number.\")\n",
    "else:\n",
    "    print(\"This is an odd number.\")"
   ]
  },
  {
   "cell_type": "code",
   "execution_count": 5,
   "metadata": {},
   "outputs": [],
   "source": [
    "# day-13-2-exercise\n",
    "# Debug Leap Year\n",
    "\n",
    "# year = input(\"Which year do you want to check?\")\n",
    "\n",
    "# if year % 4 == 0:\n",
    "#   if year % 100 == 0:\n",
    "#     if year % 400 == 0:\n",
    "#       print(\"Leap year.\")\n",
    "#     else:\n",
    "#       print(\"Not leap year.\")\n",
    "#   else:\n",
    "#     print(\"Leap year.\")\n",
    "# else:\n",
    "#   print(\"Not leap year.\")"
   ]
  },
  {
   "cell_type": "code",
   "execution_count": 9,
   "metadata": {},
   "outputs": [
    {
     "name": "stdout",
     "output_type": "stream",
     "text": [
      "Which year do you want to check? 2020\n",
      "Leap year.\n"
     ]
    }
   ],
   "source": [
    "# assuming a valid input\n",
    "# need to convert it to INT\n",
    "# added an extra space at the end of the string to make it more readable\n",
    "year = int(input(\"Which year do you want to check? \"))\n",
    "\n",
    "if year % 4 == 0:\n",
    "    if year % 100 == 0:\n",
    "        if year % 400 == 0:\n",
    "            print(\"Leap year.\")\n",
    "        else:\n",
    "            print(\"Not leap year.\")\n",
    "    else:\n",
    "        print(\"Leap year.\")\n",
    "else:\n",
    "    print(\"Not leap year.\")  "
   ]
  },
  {
   "cell_type": "code",
   "execution_count": 10,
   "metadata": {},
   "outputs": [],
   "source": [
    "# day-13-3-exercise\n",
    "# Debug FizzBuzz\n",
    "\n",
    "# for number in range(1, 101):\n",
    "#   if number % 3 == 0 or number % 5 == 0:\n",
    "#     print(\"FizzBuzz\")\n",
    "#   if number % 3 == 0:\n",
    "#     print(\"Fizz\")\n",
    "#   if number % 5 == 0:\n",
    "#     print(\"Buzz\")\n",
    "#   else:\n",
    "#     print([number])"
   ]
  },
  {
   "cell_type": "code",
   "execution_count": 12,
   "metadata": {},
   "outputs": [
    {
     "name": "stdout",
     "output_type": "stream",
     "text": [
      "1\n",
      "2\n",
      "Fizz\n",
      "4\n",
      "Buzz\n",
      "Fizz\n",
      "7\n",
      "8\n",
      "Fizz\n",
      "Buzz\n",
      "11\n",
      "Fizz\n",
      "13\n",
      "14\n",
      "FizzBuzz\n",
      "16\n",
      "17\n",
      "Fizz\n",
      "19\n",
      "Buzz\n",
      "Fizz\n",
      "22\n",
      "23\n",
      "Fizz\n",
      "Buzz\n",
      "26\n",
      "Fizz\n",
      "28\n",
      "29\n",
      "FizzBuzz\n",
      "31\n",
      "32\n",
      "Fizz\n",
      "34\n",
      "Buzz\n",
      "Fizz\n",
      "37\n",
      "38\n",
      "Fizz\n",
      "Buzz\n",
      "41\n",
      "Fizz\n",
      "43\n",
      "44\n",
      "FizzBuzz\n",
      "46\n",
      "47\n",
      "Fizz\n",
      "49\n",
      "Buzz\n",
      "Fizz\n",
      "52\n",
      "53\n",
      "Fizz\n",
      "Buzz\n",
      "56\n",
      "Fizz\n",
      "58\n",
      "59\n",
      "FizzBuzz\n",
      "61\n",
      "62\n",
      "Fizz\n",
      "64\n",
      "Buzz\n",
      "Fizz\n",
      "67\n",
      "68\n",
      "Fizz\n",
      "Buzz\n",
      "71\n",
      "Fizz\n",
      "73\n",
      "74\n",
      "FizzBuzz\n",
      "76\n",
      "77\n",
      "Fizz\n",
      "79\n",
      "Buzz\n",
      "Fizz\n",
      "82\n",
      "83\n",
      "Fizz\n",
      "Buzz\n",
      "86\n",
      "Fizz\n",
      "88\n",
      "89\n",
      "FizzBuzz\n",
      "91\n",
      "92\n",
      "Fizz\n",
      "94\n",
      "Buzz\n",
      "Fizz\n",
      "97\n",
      "98\n",
      "Fizz\n",
      "Buzz\n"
     ]
    }
   ],
   "source": [
    "for number in range(1, 101):\n",
    "    # this needs to be \"and\", not \"or\"\n",
    "    if number % 3 == 0 and number % 5 == 0:\n",
    "        print(\"FizzBuzz\")\n",
    "    # these both need to be \"elif\", not \"if\"\n",
    "    elif number % 3 == 0:\n",
    "        print(\"Fizz\")\n",
    "    elif number % 5 == 0:\n",
    "        print(\"Buzz\")\n",
    "    else:\n",
    "        # no need for the brackets if we just want the variable\n",
    "        print(number)"
   ]
  },
  {
   "cell_type": "code",
   "execution_count": null,
   "metadata": {},
   "outputs": [],
   "source": []
  }
 ],
 "metadata": {
  "kernelspec": {
   "display_name": "Python 3.9.10 64-bit",
   "language": "python",
   "name": "python3"
  },
  "language_info": {
   "codemirror_mode": {
    "name": "ipython",
    "version": 3
   },
   "file_extension": ".py",
   "mimetype": "text/x-python",
   "name": "python",
   "nbconvert_exporter": "python",
   "pygments_lexer": "ipython3",
   "version": "3.9.10"
  },
  "vscode": {
   "interpreter": {
    "hash": "7274d498c25e074c3213a89917b8ecd63e91ebac93f7d645e62fb679a741fc76"
   }
  }
 },
 "nbformat": 4,
 "nbformat_minor": 4
}
