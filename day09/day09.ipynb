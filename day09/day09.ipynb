{
 "cells": [
  {
   "cell_type": "code",
   "execution_count": null,
   "metadata": {},
   "outputs": [],
   "source": [
    "# day-9-1-exercise\n",
    "# You have access to a database of student_scores in the format of a dictionary.\n",
    "# The keys in student_scores are the names of the students and the values are their exam scores.\n",
    "# Write a program that converts their scores to grades."
   ]
  },
  {
   "cell_type": "code",
   "execution_count": null,
   "metadata": {},
   "outputs": [],
   "source": [
    "student_scores = {\n",
    "  \"Harry\": 81,\n",
    "  \"Ron\": 78,\n",
    "  \"Hermione\": 99, \n",
    "  \"Draco\": 74,\n",
    "  \"Neville\": 62,\n",
    "}\n",
    "# 🚨 Don't change the code above 👆\n",
    "\n",
    "student_grades = {}\n",
    "for key in student_scores:\n",
    "    # set the value based on the score\n",
    "    if student_scores[key] > 90:\n",
    "        grade = \"Outstanding\"\n",
    "    elif student_scores[key] > 80 and student_scores[key] <= 90:\n",
    "        grade = \"Exceeds Expectations\"\n",
    "    elif student_scores[key] > 70 and student_scores[key] <= 80:\n",
    "        grade = \"Acceptable\"\n",
    "    else:\n",
    "        grade = \"Fail\"\n",
    "    # add the key-value pair to the new dictionary\n",
    "    student_grades[key] = grade\n",
    "\n",
    "# 🚨 Don't change the code below 👇\n",
    "print(student_grades)"
   ]
  },
  {
   "cell_type": "code",
   "execution_count": null,
   "metadata": {},
   "outputs": [],
   "source": [
    "# day-9-2-exercise\n",
    "# You are going to write a program that adds to a travel_log.\n",
    "# You can see a travel_log which is a List that contains 2 Dictionaries.\n",
    "# Write a function that will work with the following line of code on line 21 to add the entry for Russia to the travel_log.\n",
    "# add_new_country(\"Russia\", 2, [\"Moscow\", \"Saint Petersburg\"])"
   ]
  },
  {
   "cell_type": "code",
   "execution_count": null,
   "metadata": {},
   "outputs": [],
   "source": [
    "travel_log = [\n",
    "{\n",
    "  \"country\": \"France\",\n",
    "  \"visits\": 12,\n",
    "  \"cities\": [\"Paris\", \"Lille\", \"Dijon\"]\n",
    "},\n",
    "{\n",
    "  \"country\": \"Germany\",\n",
    "  \"visits\": 5,\n",
    "  \"cities\": [\"Berlin\", \"Hamburg\", \"Stuttgart\"]\n",
    "},\n",
    "]\n",
    "#🚨 Do NOT change the code above\n",
    "\n",
    "#TODO: Write the function that will allow new countries\n",
    "#to be added to the travel_log. 👇\n",
    "\n",
    "def add_new_country(country_name, visit_count, city_list):\n",
    "    # create a new dictionary with the provided data\n",
    "    new_destination = {\n",
    "        \"country\": country_name,\n",
    "        \"visits\": visit_count,\n",
    "        \"cities\": city_list,\n",
    "    }\n",
    "    # add it to the list\n",
    "    travel_log.append(new_destination)\n",
    "\n",
    "#🚨 Do not change the code below\n",
    "add_new_country(\"Russia\", 2, [\"Moscow\", \"Saint Petersburg\"])\n",
    "print(travel_log)"
   ]
  }
 ],
 "metadata": {
  "language_info": {
   "name": "python"
  },
  "orig_nbformat": 4
 },
 "nbformat": 4,
 "nbformat_minor": 2
}
