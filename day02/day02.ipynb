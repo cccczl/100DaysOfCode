{
 "cells": [
  {
   "cell_type": "code",
   "execution_count": null,
   "metadata": {},
   "outputs": [],
   "source": [
    "# day-2-1-exercise\n",
    "# Write a program that adds the digits in a 2 digit number. e.g. if the input was 35, then the output should be 3 + 5 = 8"
   ]
  },
  {
   "cell_type": "code",
   "execution_count": null,
   "metadata": {},
   "outputs": [],
   "source": [
    "# 🚨 Don't change the code below 👇\n",
    "two_digit_number = input(\"Type a two digit number: \")\n",
    "# 🚨 Don't change the code above 👆\n",
    "\n",
    "####################################\n",
    "#Write your code below this line 👇\n",
    "\n",
    "sum = 0\n",
    "\n",
    "# probably should check if the input really is an integer\n",
    "# should work for an integer with any number of digits, including zero\n",
    "for digit in two_digit_number:\n",
    "    sum += int(digit)\n",
    "    \n",
    "print(f\"The sum of digits is {sum}.\")"
   ]
  },
  {
   "cell_type": "code",
   "execution_count": null,
   "metadata": {},
   "outputs": [],
   "source": [
    "# day-2-2-exercise\n",
    "# day-2-2-交互练习\n",
    "# Write a program that calculates the Body Mass Index (BMI) from a user's weight and height.\n",
    "# 写入你的升高和体重。进行身体质量子数计算（BMI）。"
   ]
  },
  {
   "cell_type": "code",
   "execution_count": null,
   "metadata": {},
   "outputs": [],
   "source": [
    "# 🚨 Don't change the code below 👇\n",
    "# 请不要修改这里的内容\n",
    "height = input(\"请输入你的升高单位是 m: \")\n",
    "weight = input(\"请输入你的体重单位是 kg: \")\n",
    "# 🚨 Don't change the code above 👆\n",
    "# 请不要修改这里的内容\n",
    "###################################################\n",
    "#Write your code below this line 👇\n",
    "#请在这里编写你的代码\n",
    "\n",
    "# again, probably should check if the inputs are the proper type\n",
    "#编写，检查，看看输入是否正确\n",
    "bmi = int(float(weight) / (float(height) ** 2))\n",
    "print(f\"你的身体子数值是： {bmi}.\")"
   ]
  },
  {
   "cell_type": "code",
   "execution_count": null,
   "metadata": {},
   "outputs": [],
   "source": [
    "# day-2-3-exercise\n",
    "# day-2-3-交互练习\n",
    "# Create a program using maths and f-Strings that tells us how many days, weeks, months we have left if we live\n",
    "# 计算我们的剩余时间，使用f-Strings 方式。\n",
    "# until 90 years old.\n",
    "# 架设我们只能活到90岁"
   ]
  },
  {
   "cell_type": "code",
   "execution_count": null,
   "metadata": {},
   "outputs": [],
   "source": [
    "# 🚨 Don't change the code below 👇\n",
    "# 请不要修改这里的内容\n",
    "age = input(\"你现在的年龄?\")\n",
    "# 🚨 Don't change the code above 👆\n",
    "# 请不要修改这里的内容\n",
    "###########################################\n",
    "#Write your code below this line 👇\n",
    "#请在这里编写你的代码\n",
    "\n",
    "# assuming that today is the user's birthday, since we only get the age in years\n",
    "# 假设今天是用户的生日。\n",
    "years = 90 - int(age)\n",
    "days = years * 365\n",
    "weeks = years * 52\n",
    "months = years * 12\n",
    "\n",
    "print(f\"You have {days} days, {weeks} weeks, and {months} months left.\")"
   ]
  }
 ],
 "metadata": {
  "kernelspec": {
   "display_name": "Python 3.9.12 ('base')",
   "language": "python",
   "name": "python3"
  },
  "language_info": {
   "name": "python",
   "version": "3.9.13"
  },
  "orig_nbformat": 4,
  "vscode": {
   "interpreter": {
    "hash": "de06b34ddb11d351d9b2ac1115aa8d67757653cc6c883c4b66f1d79040ffb735"
   }
  }
 },
 "nbformat": 4,
 "nbformat_minor": 2
}
