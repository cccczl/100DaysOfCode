{
 "cells": [
  {
   "cell_type": "markdown",
   "metadata": {},
   "source": [
    "今天我们将学习，打印；注释；调试；字符串操作；变量"
   ]
  },
  {
   "cell_type": "code",
   "execution_count": null,
   "metadata": {},
   "outputs": [],
   "source": [
    "# Band Name Generator\n",
    "# 乐队名称生成器\n",
    "print(\"欢迎使用乐队名称生成器。\")\n",
    "\n",
    "# initialize the variables as empty strings\n",
    "# 将变量初始化为空字符\n",
    "city = \"\"\n",
    "pet_name = \"\"\n",
    "\n",
    "# simple check to make sure the user has entered something\n",
    "# 简单的检查，确保用户已经输入了内容\n",
    "\n",
    "while True:\n",
    "    print(\"What's the name of the city you grew up in?\")\n",
    "    city = input(\"> \")\n",
    "    # if there's no input, ask again\n",
    "    # 如果没有输入，再问一次\n",
    "    if city == \"\":\n",
    "        print(\"You haven't entered anything. Please try again.\")\n",
    "    # if there's any input at all, break out of the loop\n",
    "    # 如果有输入，就跳出循环\n",
    "    else:\n",
    "        break\n",
    "\n",
    "# do the same for the pet name\n",
    "# 接受乐队名输入检查，和上段代码同样处理\n",
    "while True:\n",
    "    print(\"What's your pet's name?\")\n",
    "    pet_name = input(\"> \")\n",
    "    if pet_name == \"\":\n",
    "        print(\"You haven't entered anything. Please try again.\")\n",
    "    else:\n",
    "        break\n",
    "\n",
    "# output using f-strings makes the code much more readable\n",
    "# 使用f-strings的输出使代码可读性更强\n",
    "print(f\"Your band name could be {city} {pet_name}.\")\n",
    "print(\"Your band name could be {} {}.\".format(city,pet_name))\n",
    "print(\"Your band name could be \"+city, pet_name+\". \")\n"
   ]
  }
 ],
 "metadata": {
  "kernelspec": {
   "display_name": "Python 3.9.10 64-bit",
   "language": "python",
   "name": "python3"
  },
  "language_info": {
   "codemirror_mode": {
    "name": "ipython",
    "version": 3
   },
   "file_extension": ".py",
   "mimetype": "text/x-python",
   "name": "python",
   "nbconvert_exporter": "python",
   "pygments_lexer": "ipython3",
   "version": "3.9.10"
  },
  "vscode": {
   "interpreter": {
    "hash": "7274d498c25e074c3213a89917b8ecd63e91ebac93f7d645e62fb679a741fc76"
   }
  }
 },
 "nbformat": 4,
 "nbformat_minor": 4
}
